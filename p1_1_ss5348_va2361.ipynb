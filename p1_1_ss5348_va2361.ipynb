{
 "cells": [
  {
   "cell_type": "markdown",
   "metadata": {},
   "source": [
    "## Names: Somya Singhal(ss5348), Vishal Anand(va2361)\n",
    "\n",
    "## COMS 4995 HW2\n",
    "\n",
    "##  Python version used - 3.6\n",
    "\n",
    "## Pytorch"
   ]
  },
  {
   "cell_type": "code",
   "execution_count": 15,
   "metadata": {},
   "outputs": [],
   "source": [
    "import torch\n",
    "import numpy as np\n",
    "import pickle\n",
    "import copy\n",
    "get_ipython().run_line_magic('matplotlib', 'inline')\n",
    "import matplotlib.pyplot as plt\n",
    "\n",
    "from torch.autograd import Variable\n",
    "import torch.nn as nn\n",
    "import torch.nn.functional as F\n",
    "import torch.optim as optim\n",
    "\n",
    "def unpickle(file):\n",
    "    with open(file, 'rb') as fo:\n",
    "        dict = pickle.load(fo, encoding='bytes')\n",
    "    return dict\n",
    "\n",
    "def load_train_data():\n",
    "    X_train = None\n",
    "    Y_train = None\n",
    "    for i in range(1, 6):\n",
    "        pickleFile = unpickle('cifar-10-batches-py/data_batch_{}'.format(i))\n",
    "        dataX = pickleFile[b'data']\n",
    "        dataY = pickleFile[b'labels']\n",
    "        if type(X_train) is np.ndarray:\n",
    "            X_train = np.concatenate((X_train, dataX))\n",
    "            Y_train = np.concatenate((Y_train, dataY))\n",
    "        else:\n",
    "            X_train = dataX\n",
    "            Y_train = dataY\n",
    "\n",
    "    Y_train = Y_train.reshape(Y_train.shape[0], 1)\n",
    "\n",
    "    return X_train.T, Y_train.T\n",
    "\n",
    "def load_test_data():\n",
    "    X_test = None\n",
    "    Y_test = None\n",
    "    pickleFile = unpickle('cifar-10-batches-py/test_batch')\n",
    "    dataX = pickleFile[b'data']\n",
    "    dataY = pickleFile[b'labels']\n",
    "    if type(X_test) is np.ndarray:\n",
    "        X_test = np.concatenate((X_test, dataX))\n",
    "        Y_test = np.concatenate((Y_test, dataY))\n",
    "    else:\n",
    "        X_test = np.array(dataX)\n",
    "        Y_test = np.array(dataY)\n",
    "\n",
    "    Y_test = Y_test.reshape(Y_test.shape[0], 1)\n",
    "\n",
    "    return X_test.T, Y_test.T\n",
    "\n",
    "def train_test_split(X_train, Y_train):\n",
    "    msk = np.random.rand(Y_train.shape[1]) < 0.8\n",
    "    X_Train = X_train[:,msk]  \n",
    "    X_val = X_train[:,~msk]\n",
    "    Y_Train = Y_train[:,msk]  \n",
    "    Y_val = Y_train[:,~msk]\n",
    "\n",
    "    return X_Train, Y_Train, X_val, Y_val\n",
    "\n",
    "def get_batch1(X, Y, batch_size):\n",
    "    n_batches = Y.shape[1]/batch_size\n",
    "    idx = np.arange(Y.shape[1])\n",
    "    np.random.shuffle(idx)\n",
    "    mini = np.array_split(idx, n_batches)\n",
    "\n",
    "    return mini\n",
    "\n",
    "def get_batch(X, Y, batch_size):\n",
    "    n_batches = int(Y.shape[1]/batch_size)\n",
    "    idx = np.arange(Y.shape[1])\n",
    "    np.random.shuffle(idx)\n",
    "    \n",
    "    ret = []\n",
    "    for i in range(0,int(len(idx)/batch_size)):\n",
    "        chunk = idx[i*batch_size:(i+1)*batch_size]\n",
    "        ret.append(chunk)\n",
    "    mini = ret\n",
    "    \n",
    "    return mini"
   ]
  },
  {
   "cell_type": "code",
   "execution_count": 2,
   "metadata": {},
   "outputs": [],
   "source": [
    "class Net(nn.Module):\n",
    "    def __init__(self):\n",
    "        super(Net, self).__init__()\n",
    "        self.pool = nn.MaxPool2d(2, 2)\n",
    "        self.conv1 = nn.Conv2d(3, 64, 5)\n",
    "        self.conv2 = nn.Conv2d(64, 256, 5)\n",
    "        self.fc1 = nn.Linear(256 * 5 * 5, 400)\n",
    "        self.fc2 = nn.Linear(400, 10)\n",
    "\n",
    "    def forward(self, x):\n",
    "        x = self.pool(F.relu(self.conv1(x)))\n",
    "        x = self.pool(F.relu(self.conv2(x)))\n",
    "        x = x.view(-1, 256 * 5 * 5)\n",
    "        x = F.relu(self.fc1(x))\n",
    "        x = self.fc2(x)\n",
    "        return x"
   ]
  },
  {
   "cell_type": "code",
   "execution_count": 3,
   "metadata": {},
   "outputs": [],
   "source": [
    "X_train,Y_train = load_train_data()\n",
    "X_test, Y_test = load_test_data()\n",
    "X_Train, Y_Train, X_Val, Y_Val = train_test_split(X_train,Y_train)\n",
    "\n",
    "minn = np.min(X_Train, axis=1,keepdims=True)\n",
    "maxx = np.max(X_Train, axis=1,keepdims=True)\n",
    "X_Train= (X_Train - minn)/(maxx-minn)\n",
    "X_Val= (X_Val - minn)/(maxx-minn)\n",
    "X_Test= (X_test - minn)/(maxx-minn)\n",
    "\n",
    "net = Net().cuda()\n",
    "criterion = nn.CrossEntropyLoss()\n",
    "optimizer = optim.SGD(net.parameters(), lr=0.01)\n",
    "\n",
    "def test_acc():\n",
    "    correct = 0\n",
    "    total = 0\n",
    "    idx = get_batch(X_Test, Y_test, batch_size_len)\n",
    "\n",
    "    for idx_list in idx:\n",
    "        x_batch_test = [X_Test.T[index] for index in idx_list]\n",
    "        y_batch_test = [Y_test.T[index] for index in idx_list]\n",
    "        x_batch_test = np.asarray(x_batch_test)\n",
    "        y_batch_test1 = np.asarray(y_batch_test)\n",
    "        y_batch_onehot_test = get_one_hot(y_batch_test1,10)\n",
    "        label_tensor_test = torch.from_numpy(y_batch_onehot_test)\n",
    "        test_labels = Variable(label_tensor_test.cuda()).long()\n",
    "        true_labels = torch.max(test_labels,1)[1]\n",
    "        x_batch_test = x_batch_test.reshape(x_batch_test.shape[0],3,32,32)    \n",
    "        input_tensor_test = torch.from_numpy(x_batch_test)\n",
    "        images = Variable(input_tensor_test.cuda()).float()\n",
    "        outputs = net(images)\n",
    "        ##### loss = criterion(outputs, torch.max(labels, 1)[1])\n",
    "        _, predicted = torch.max(outputs.data, 1)\n",
    "\n",
    "        total += labels.size(0)\n",
    "        correct += (predicted == true_labels.data.long()).sum()\n",
    "    \n",
    "    return (100 * correct / total)\n",
    "\n",
    "def get_one_hot(targets, nb_classes):\n",
    "    return np.eye(nb_classes)[np.array(targets).reshape(-1)]\n"
   ]
  },
  {
   "cell_type": "code",
   "execution_count": 4,
   "metadata": {},
   "outputs": [
    {
     "name": "stdout",
     "output_type": "stream",
     "text": [
      "Start\n",
      "Epoch 1 Count: 300 loss: 5.645992296934128 \t 246 loss_val: 11.63914600610733\n",
      "Epoch 2 Count: 300 loss: 4.603391197323799 \t 246 loss_val: 10.175825372338295\n",
      "Epoch 3 Count: 300 loss: 4.089182105660439 \t 246 loss_val: 9.207078605890274\n",
      "Epoch 4 Count: 300 loss: 3.654939278960228 \t 246 loss_val: 8.603695315122604\n",
      "Epoch 5 Count: 300 loss: 3.538393273949623 \t 246 loss_val: 8.165870243310929\n",
      "Epoch 6 Count: 300 loss: 3.3113282710313796 \t 246 loss_val: 8.119764965772628\n",
      "Epoch 7 Count: 300 loss: 3.132990263402462 \t 246 loss_val: 7.987023708224297\n",
      "Epoch 8 Count: 300 loss: 2.9693144887685774 \t 246 loss_val: 7.211415374279023\n",
      "Epoch 9 Count: 300 loss: 2.8838567659258842 \t 246 loss_val: 6.95526320785284\n",
      "Epoch 10 Count: 300 loss: 2.7203442946076395 \t 246 loss_val: 6.7809673473238945\n",
      "Epoch 11 Count: 300 loss: 2.5616210982203484 \t 246 loss_val: 6.553921820223332\n",
      "Epoch 12 Count: 300 loss: 2.435298801958561 \t 246 loss_val: 6.301793374121189\n",
      "Epoch 13 Count: 300 loss: 2.4046793684363363 \t 246 loss_val: 6.117238359153271\n",
      "Epoch 14 Count: 300 loss: 2.272477465867996 \t 246 loss_val: 5.979867243766785\n",
      "Epoch 15 Count: 300 loss: 2.1547351352870465 \t 246 loss_val: 5.911691789329052\n",
      "Epoch 16 Count: 300 loss: 1.9898882076144218 \t 246 loss_val: 5.738749139010906\n",
      "Epoch 17 Count: 300 loss: 1.8451629921793937 \t 246 loss_val: 6.055318252742291\n",
      "Epoch 18 Count: 300 loss: 1.7101704247295857 \t 246 loss_val: 5.589942893385887\n",
      "Epoch 19 Count: 300 loss: 1.677947299182415 \t 246 loss_val: 5.610463707149028\n",
      "Epoch 20 Count: 300 loss: 1.549316582083702 \t 246 loss_val: 5.437331971526146\n",
      "Epoch 21 Count: 300 loss: 1.4189028605818748 \t 246 loss_val: 5.587678198516369\n",
      "Epoch 22 Count: 300 loss: 1.326221538707614 \t 246 loss_val: 5.61158104389906\n",
      "Epoch 23 Count: 300 loss: 1.2146631944924593 \t 246 loss_val: 5.525660047680139\n"
     ]
    }
   ],
   "source": [
    "trainacc=[]\n",
    "valacc=[]\n",
    "testacc = []\n",
    "traincost = []\n",
    "valcost = []\n",
    "epoch_count = 23\n",
    "num = epoch_count\n",
    "batch_size_len = 40 \n",
    "\n",
    "train = \"\"\n",
    "print(\"Start\", flush=True)\n",
    "for epoch in range(num):  # loop over the dataset multiple times\n",
    "    running_loss = 0.0\n",
    "    running_loss_val = 0.0\n",
    "    train_accuracy = 0.0\n",
    "    val_accuracy = 0.0\n",
    "    correct_train = 0\n",
    "    total_train = 0\n",
    "    correct_val = 0\n",
    "    total_val = 0\n",
    "    #print(epoch, flush=True)\n",
    "    abcd_train = get_batch(X_Train, Y_Train,batch_size_len)\n",
    "    for i, idx in enumerate(abcd_train, 0):\n",
    "        # get the inputs\n",
    "        x_batch = [X_Train.T[index] for index in idx]\n",
    "        y_batch = [Y_Train.T[index] for index in idx]\n",
    "        x_batch = np.asarray(x_batch)\n",
    "        y_batch = np.asarray(y_batch)\n",
    "        y_batch_onehot = get_one_hot(y_batch,10)\n",
    "        x_batch = x_batch.reshape(x_batch.shape[0],3,32,32)\n",
    "        input_tensor = torch.from_numpy(x_batch)\n",
    "        label_tensor = torch.from_numpy(y_batch_onehot)\n",
    "        inputs = Variable(input_tensor.cuda()).float()\n",
    "        labels = Variable(label_tensor.cuda()).long()\n",
    "        true_labels = torch.max(labels,1)[1]\n",
    "        optimizer.zero_grad()\n",
    "        outputs = net(inputs)\n",
    "        loss = criterion(outputs, torch.max(labels, 1)[1])\n",
    "        loss.backward()\n",
    "        optimizer.step()\n",
    "\n",
    "        running_loss += loss.data[0]\n",
    "        if i % 100 == 99:    # print every 2000 mini-batches\n",
    "            if(i+1 == 300):\n",
    "                print(\"Epoch\", epoch + 1, \"Count:\", i + 1, \"loss:\", running_loss/(batch_size_len*1.0), end=' ')\n",
    "            traincost.append(running_loss / (batch_size_len*1.0))\n",
    "            running_loss = 0.0\n",
    "            \n",
    "        _, predicted_train = torch.max(outputs.data, 1)\n",
    "        total_train += labels.size(0)\n",
    "        correct_train += (predicted_train == true_labels.data.long()).sum()\n",
    "    train_accuracy = 100 * correct_train / (total_train + 0.0001)\n",
    "        \n",
    "    abcd = get_batch(X_Val, Y_Val,batch_size_len)\n",
    "#     for l in abcd:\n",
    "#         print(len(l), end=' ')\n",
    "#     print(\"\")\n",
    "    for i, idx in enumerate(abcd, 0):\n",
    "        # get the inputs\n",
    "        x_batch_val = [X_Val.T[index] for index in idx]\n",
    "        y_batch_val = [Y_Val.T[index] for index in idx]\n",
    "        x_batch_val = np.asarray(x_batch_val)\n",
    "        y_batch_val = np.asarray(y_batch_val)\n",
    "        y_batch_onehot_val = get_one_hot(y_batch_val,10)\n",
    "        x_batch_val = x_batch_val.reshape(x_batch_val.shape[0],3,32,32)\n",
    "        input_tensor_val = torch.from_numpy(x_batch_val)\n",
    "        label_tensor_val = torch.from_numpy(y_batch_onehot_val)\n",
    "        inputs_val = Variable(input_tensor_val.cuda()).float()\n",
    "        labels_val = Variable(label_tensor_val.cuda()).long()\n",
    "        true_labels_val = torch.max(labels_val,1)[1]\n",
    "        optimizer.zero_grad()\n",
    "        outputs_val = net(inputs_val)\n",
    "        loss_val = criterion(outputs_val, torch.max(labels_val, 1)[1])\n",
    "        running_loss_val += loss_val.data[0]\n",
    "        if i == len(abcd) - 1:    \n",
    "            print(\"\\t\", i, \"loss_val:\", running_loss_val/(batch_size_len*1.0))\n",
    "            valcost.append(running_loss_val/(batch_size_len*1.0))\n",
    "            running_loss_val = 0.0\n",
    "        \n",
    "        _, predicted_val = torch.max(outputs_val.data, 1)\n",
    "        total_val += labels_val.size(0)\n",
    "        correct_val += (predicted_val == true_labels_val.data.long()).sum()\n",
    "    val_accuracy = 100 * correct_val / total_val\n",
    "    trainacc.append(train_accuracy)\n",
    "    valacc.append(val_accuracy)\n",
    "    \n"
   ]
  },
  {
   "cell_type": "code",
   "execution_count": 11,
   "metadata": {},
   "outputs": [
    {
     "name": "stdout",
     "output_type": "stream",
     "text": [
      "Final Training accuracy 83.64271436216889\n",
      "Final Validation accuracy 70.32388663967612\n"
     ]
    }
   ],
   "source": [
    "print('Final Training accuracy',trainacc[len(trainacc)-1])\n",
    "print('Final Validation accuracy',valacc[len(valacc)-1])"
   ]
  },
  {
   "cell_type": "code",
   "execution_count": 6,
   "metadata": {},
   "outputs": [
    {
     "name": "stdout",
     "output_type": "stream",
     "text": [
      "Finished Training\n",
      "Training Accuracy  [22.776946050955726, 36.13273444078659, 43.0414170582799, 47.385229422691545, 50.898203465822846, 53.46307371890451, 56.19510964023176, 58.45059865656039, 60.64870244349127, 62.87425134013411, 64.58832319214491, 66.21506969507219, 67.94161659695206, 69.61826329935563, 71.54940101908832, 72.55738504850952, 74.35628723963002, 76.00798384229546, 77.45259461713425, 78.92465050168501, 80.50648682508363, 81.9810377196082, 83.64271436216889]\n",
      "validation Accuracy [30.678137651821864, 40.98178137651822, 46.25506072874494, 50.40485829959514, 52.91497975708502, 53.825910931174086, 54.22064777327935, 59.18016194331984, 61.39676113360324, 61.18421052631579, 63.12753036437247, 64.49392712550608, 65.4251012145749, 66.87246963562752, 67.28744939271255, 67.61133603238866, 66.30566801619433, 69.38259109311741, 68.97773279352226, 70.1923076923077, 69.78744939271255, 69.83805668016194, 70.32388663967612]\n",
      "Test: 70.32\n"
     ]
    }
   ],
   "source": [
    "print('Finished Training', flush=True)\n",
    "print('Training Accuracy ',trainacc, flush=True)\n",
    "print('validation Accuracy',valacc, flush=True)\n",
    "print(\"Test:\", test_acc(), flush=True)"
   ]
  },
  {
   "cell_type": "code",
   "execution_count": 28,
   "metadata": {},
   "outputs": [
    {
     "data": {
      "image/png": "[encoded data removed]",
      "text/plain": [
       "<matplotlib.figure.Figure at 0x7efe55be3978>"
      ]
     },
     "metadata": {},
     "output_type": "display_data"
    }
   ],
   "source": [
    "plt.figure()\n",
    "plt.plot(trainacc, 'r', label ='train-accuracy')\n",
    "plt.plot(valacc, 'b', label = 'val-accuracy')\n",
    "plt.xlabel('Epochs')\n",
    "plt.ylabel('Accuracy')\n",
    "plt.title('CIFAR-10 CNN')\n",
    "plt.legend()\n",
    "plt.savefig(\"1.1accuracy.png\")"
   ]
  },
  {
   "cell_type": "code",
   "execution_count": 29,
   "metadata": {},
   "outputs": [
    {
     "data": {
      "image/png": "[encoded data removed]",
      "text/plain": [
       "<matplotlib.figure.Figure at 0x7efe55c2c400>"
      ]
     },
     "metadata": {},
     "output_type": "display_data"
    }
   ],
   "source": [
    "x_t = []\n",
    "\n",
    "\n",
    "for i in range(len(traincost)):\n",
    "    x_t.append((i+1)*batch_size_len)\n",
    "\n",
    "plt.figure()\n",
    "plt.plot(x_t,traincost, 'b', label = 'traincost')\n",
    "plt.xlabel('Iterations')\n",
    "plt.ylabel('TrainLoss')\n",
    "plt.title('CIFAR-10 CNN')\n",
    "plt.legend()\n",
    "plt.savefig(\"1.1trainloss.png\")"
   ]
  },
  {
   "cell_type": "code",
   "execution_count": 30,
   "metadata": {},
   "outputs": [
    {
     "data": {
      "image/png": "[encoded data removed]",
      "text/plain": [
       "<matplotlib.figure.Figure at 0x7efea13507f0>"
      ]
     },
     "metadata": {},
     "output_type": "display_data"
    }
   ],
   "source": [
    "x_v = []\n",
    "for i in range(len(valcost)):\n",
    "    x_v.append((i+1)*batch_size_len)\n",
    "    \n",
    "plt.figure()\n",
    "plt.plot(x_v,valcost, 'r', label = 'valcost')\n",
    "plt.xlabel('Iterations')\n",
    "plt.ylabel('ValLoss')\n",
    "plt.title('CIFAR-10 CNN')\n",
    "plt.legend()\n",
    "plt.savefig(\"1.1valloss.png\")"
   ]
  },
  {
   "cell_type": "code",
   "execution_count": null,
   "metadata": {},
   "outputs": [],
   "source": []
  }
 ],
 "metadata": {
  "kernelspec": {
   "display_name": "Python 3",
   "language": "python",
   "name": "python3"
  },
  "language_info": {
   "codemirror_mode": {
    "name": "ipython",
    "version": 3
   },
   "file_extension": ".py",
   "mimetype": "text/x-python",
   "name": "python",
   "nbconvert_exporter": "python",
   "pygments_lexer": "ipython3",
   "version": "3.6.4"
  }
 },
 "nbformat": 4,
 "nbformat_minor": 2
}
